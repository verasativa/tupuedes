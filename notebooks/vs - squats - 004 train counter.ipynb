{
 "cells": [
  {
   "cell_type": "code",
   "execution_count": 1,
   "metadata": {
    "collapsed": true,
    "pycharm": {
     "name": "#%%\n"
    }
   },
   "outputs": [],
   "source": [
    "import pandas as pd"
   ]
  },
  {
   "cell_type": "code",
   "execution_count": 32,
   "outputs": [
    {
     "data": {
      "text/plain": "(4676, 339)"
     },
     "execution_count": 32,
     "metadata": {},
     "output_type": "execute_result"
    }
   ],
   "source": [
    "files = [\n",
    "    '../data/processed/squats/How-To-Barbell-Squat-with-Krissy-Cela-YouTube.csv',\n",
    "    '../data/processed/squats/How-to-Squat-Properly-Form-Fixes-Tips-Myths-YouTube.csv',\n",
    "    '../data/processed/squats/TARGET-YOUR-GLUTES-NOT-YOUR-QUADS-Glute-Series-Ep9-YouTube.csv',\n",
    "]\n",
    "dfs = [pd.read_csv(file) for file in files]\n",
    "df = pd.concat(dfs).dropna(subset=['label']).reset_index()\n",
    "df.shape"
   ],
   "metadata": {
    "collapsed": false,
    "pycharm": {
     "name": "#%%\n"
    }
   }
  },
  {
   "cell_type": "code",
   "execution_count": 4,
   "outputs": [],
   "source": [
    "from tupuedes.analysis import FullBodyPoseEmbedder\n",
    "from tupuedes.poses import SquatClassifier"
   ],
   "metadata": {
    "collapsed": false,
    "pycharm": {
     "name": "#%%\n"
    }
   }
  },
  {
   "cell_type": "code",
   "execution_count": 68,
   "outputs": [],
   "source": [
    "embedder = FullBodyPoseEmbedder()\n",
    "classifier = SquatClassifier()"
   ],
   "metadata": {
    "collapsed": false,
    "pycharm": {
     "name": "#%%\n"
    }
   }
  },
  {
   "cell_type": "code",
   "execution_count": 46,
   "outputs": [
    {
     "data": {
      "text/plain": "1455    [[-0.1331539303064346, -0.6234725117683411, -0...\ndtype: object"
     },
     "execution_count": 46,
     "metadata": {},
     "output_type": "execute_result"
    }
   ],
   "source": [
    "import numpy as np\n",
    "\n",
    "def row2array(row):\n",
    "    data = []\n",
    "    point = []\n",
    "    for column in row.index:\n",
    "        if column.startswith('relative_') and column[-2:] in ['_x', '_y', '_z']:\n",
    "            point.append(row[column])\n",
    "            if len(point) == 3:\n",
    "                data.append(point)\n",
    "                point = []\n",
    "\n",
    "    return np.array(data)\n",
    "\n",
    "df.sample(n=1).apply(row2array, axis=1)"
   ],
   "metadata": {
    "collapsed": false,
    "pycharm": {
     "name": "#%%\n"
    }
   }
  },
  {
   "cell_type": "code",
   "execution_count": 47,
   "outputs": [],
   "source": [
    "df['landmarks_array'] = df.apply(row2array, axis=1)"
   ],
   "metadata": {
    "collapsed": false,
    "pycharm": {
     "name": "#%%\n"
    }
   }
  },
  {
   "cell_type": "code",
   "execution_count": 48,
   "outputs": [],
   "source": [
    "df['embeddings'] = df.landmarks_array.apply(embedder)"
   ],
   "metadata": {
    "collapsed": false,
    "pycharm": {
     "name": "#%%\n"
    }
   }
  },
  {
   "cell_type": "code",
   "execution_count": 80,
   "outputs": [
    {
     "data": {
      "text/plain": "<AxesSubplot:>"
     },
     "execution_count": 80,
     "metadata": {},
     "output_type": "execute_result"
    },
    {
     "data": {
      "text/plain": "<Figure size 1152x216 with 1 Axes>",
      "image/png": "[encoded data removed]"
     },
     "metadata": {
      "needs_background": "light"
     },
     "output_type": "display_data"
    }
   ],
   "source": [
    "classifier = SquatClassifier()\n",
    "def predictor_generator(row):\n",
    "    global classifier\n",
    "    if row.label is None:\n",
    "        classifier = SquatClassifier()\n",
    "        return None\n",
    "\n",
    "    return classifier.infer(row.embeddings)\n",
    "\n",
    "\n",
    "\n",
    "df['predictions'] = df.apply(predictor_generator, axis=1)\n",
    "dummies = pd.get_dummies(df.predictions, dummy_na=True)\n",
    "dummies[dummies.columns].replace({0: None}).plot(figsize=(16, 3))"
   ],
   "metadata": {
    "collapsed": false,
    "pycharm": {
     "name": "#%%\n"
    }
   }
  },
  {
   "cell_type": "code",
   "execution_count": 76,
   "outputs": [
    {
     "data": {
      "text/plain": "<AxesSubplot:>"
     },
     "execution_count": 76,
     "metadata": {},
     "output_type": "execute_result"
    },
    {
     "data": {
      "text/plain": "<Figure size 1152x216 with 1 Axes>",
      "image/png": "[encoded data removed]"
     },
     "metadata": {
      "needs_background": "light"
     },
     "output_type": "display_data"
    }
   ],
   "source": [
    "\n",
    "dummies = pd.get_dummies(df.predictions, dummy_na=True)\n",
    "dummies[dummies.columns].replace({0: None})[:100].plot(figsize=(16, 3))"
   ],
   "metadata": {
    "collapsed": false,
    "pycharm": {
     "name": "#%%\n"
    }
   }
  },
  {
   "cell_type": "code",
   "execution_count": 74,
   "outputs": [
    {
     "data": {
      "text/plain": "'squat_down'"
     },
     "execution_count": 74,
     "metadata": {},
     "output_type": "execute_result"
    }
   ],
   "source": [
    "df.loc[20].predictions"
   ],
   "metadata": {
    "collapsed": false,
    "pycharm": {
     "name": "#%%\n"
    }
   }
  },
  {
   "cell_type": "code",
   "execution_count": 77,
   "outputs": [
    {
     "data": {
      "text/plain": "squat_down      4279\nsquat_pasive     306\nsquat_up          91\nName: predictions, dtype: int64"
     },
     "execution_count": 77,
     "metadata": {},
     "output_type": "execute_result"
    }
   ],
   "source": [
    "df.predictions.value_counts()"
   ],
   "metadata": {
    "collapsed": false,
    "pycharm": {
     "name": "#%%\n"
    }
   }
  },
  {
   "cell_type": "code",
   "execution_count": 70,
   "outputs": [
    {
     "data": {
      "text/plain": "<AxesSubplot:>"
     },
     "execution_count": 70,
     "metadata": {},
     "output_type": "execute_result"
    },
    {
     "data": {
      "text/plain": "<Figure size 1152x216 with 1 Axes>",
      "image/png": "[encoded data removed]"
     },
     "metadata": {
      "needs_background": "light"
     },
     "output_type": "display_data"
    }
   ],
   "source": [
    "dummies = pd.get_dummies(df.label, dummy_na=True)\n",
    "dummies[dummies.columns].replace({0: None})[:800].plot(figsize=(16, 3))"
   ],
   "metadata": {
    "collapsed": false,
    "pycharm": {
     "name": "#%%\n"
    }
   }
  },
  {
   "cell_type": "code",
   "execution_count": 66,
   "outputs": [
    {
     "data": {
      "text/plain": "<AxesSubplot:>"
     },
     "execution_count": 66,
     "metadata": {},
     "output_type": "execute_result"
    },
    {
     "data": {
      "text/plain": "<Figure size 1152x648 with 1 Axes>",
      "image/png": "[encoded data removed]"
     },
     "metadata": {
      "needs_background": "light"
     },
     "output_type": "display_data"
    }
   ],
   "source": [
    "class LabelToCounter:\n",
    "    def __init__(self):\n",
    "        self.counter = 0\n",
    "        self.squat_downs = 0\n",
    "        self.squat_ups = 0\n",
    "\n",
    "    def count(self, label):\n",
    "        if label == 'squat_pasive' and self.squat_downs >= 10 and self.squat_ups >= 10:\n",
    "            self.counter += 1\n",
    "            self.squat_downs = 0\n",
    "            self.squat_ups = 0\n",
    "        elif label == 'squat_down':\n",
    "            self.squat_downs += 1\n",
    "        elif label == 'squat_up':\n",
    "            self.squat_ups += 1\n",
    "\n",
    "        return self.counter\n",
    "\n",
    "label_to_counter = LabelToCounter()\n",
    "prediction_to_counter = LabelToCounter()\n",
    "\n",
    "df['counter'] = df.label.apply(label_to_counter.count)\n",
    "df['prediction_counter'] = df.predictions.apply(prediction_to_counter.count)\n",
    "df.counter.plot()\n",
    "df.prediction_counter.plot(figsize=(16,9))"
   ],
   "metadata": {
    "collapsed": false,
    "pycharm": {
     "name": "#%%\n"
    }
   }
  },
  {
   "cell_type": "code",
   "execution_count": 52,
   "outputs": [
    {
     "data": {
      "text/plain": "<__main__.LabelToCounter at 0x11dea8220>"
     },
     "execution_count": 52,
     "metadata": {},
     "output_type": "execute_result"
    }
   ],
   "source": [
    "label_to_counter"
   ],
   "metadata": {
    "collapsed": false,
    "pycharm": {
     "name": "#%%\n"
    }
   }
  },
  {
   "cell_type": "code",
   "execution_count": 54,
   "outputs": [
    {
     "ename": "AttributeError",
     "evalue": "'LabelToCounter' object has no attribute 'squat_downs'",
     "output_type": "error",
     "traceback": [
      "\u001B[0;31m---------------------------------------------------------------------------\u001B[0m",
      "\u001B[0;31mAttributeError\u001B[0m                            Traceback (most recent call last)",
      "Input \u001B[0;32mIn [54]\u001B[0m, in \u001B[0;36m<cell line: 1>\u001B[0;34m()\u001B[0m\n\u001B[0;32m----> 1\u001B[0m \u001B[43mLabelToCounter\u001B[49m\u001B[43m(\u001B[49m\u001B[43m)\u001B[49m\u001B[38;5;241;43m.\u001B[39;49m\u001B[43msquat_downs\u001B[49m\n",
      "\u001B[0;31mAttributeError\u001B[0m: 'LabelToCounter' object has no attribute 'squat_downs'"
     ]
    }
   ],
   "source": [
    "LabelToCounter().squat_downs"
   ],
   "metadata": {
    "collapsed": false,
    "pycharm": {
     "name": "#%%\n"
    }
   }
  },
  {
   "cell_type": "code",
   "execution_count": null,
   "outputs": [],
   "source": [],
   "metadata": {
    "collapsed": false,
    "pycharm": {
     "name": "#%%\n"
    }
   }
  }
 ],
 "metadata": {
  "kernelspec": {
   "display_name": "Python 3",
   "language": "python",
   "name": "python3"
  },
  "language_info": {
   "codemirror_mode": {
    "name": "ipython",
    "version": 2
   },
   "file_extension": ".py",
   "mimetype": "text/x-python",
   "name": "python",
   "nbconvert_exporter": "python",
   "pygments_lexer": "ipython2",
   "version": "2.7.6"
  }
 },
 "nbformat": 4,
 "nbformat_minor": 0
}