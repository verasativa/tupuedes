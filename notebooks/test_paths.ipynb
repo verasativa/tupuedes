{
 "cells": [
  {
   "cell_type": "code",
   "execution_count": 1,
   "metadata": {
    "collapsed": true,
    "pycharm": {
     "name": "#%%\n"
    }
   },
   "outputs": [
    {
     "data": {
      "text/plain": "PosixPath('/Users/v/Documents/tupuedes')"
     },
     "execution_count": 1,
     "metadata": {},
     "output_type": "execute_result"
    }
   ],
   "source": [
    "from tupuedes.util import file_system\n",
    "\n",
    "file_system.get_documents_path().absolute()"
   ]
  },
  {
   "cell_type": "code",
   "execution_count": null,
   "outputs": [],
   "source": [
    "from tupuedes.util import file_system\n",
    "from importlib import reload\n",
    "reload(file_system)"
   ],
   "metadata": {
    "collapsed": false,
    "pycharm": {
     "name": "#%%\n"
    }
   }
  },
  {
   "cell_type": "code",
   "execution_count": 21,
   "outputs": [
    {
     "name": "stdout",
     "output_type": "stream",
     "text": [
      "/Users/v/repositories/tupuedesapp\n"
     ]
    },
    {
     "data": {
      "text/plain": "PosixPath('/Users/v/repositories/tupuedesapp/models/squat.onnx')"
     },
     "execution_count": 21,
     "metadata": {},
     "output_type": "execute_result"
    }
   ],
   "source": [
    "import os, tupuedes\n",
    "from pathlib import Path\n",
    "\n",
    "def get_module_data_path(internal_path):\n",
    "    pip_path = os.path.dirname(tupuedes.__file__)\n",
    "    pip_path = Path(pip_path).parents[0]\n",
    "\n",
    "    return pip_path.joinpath(*internal_path)\n",
    "\n",
    "get_module_data_path(['models', 'squat.onnx'])"
   ],
   "metadata": {
    "collapsed": false,
    "pycharm": {
     "name": "#%%\n"
    }
   }
  },
  {
   "cell_type": "code",
   "execution_count": null,
   "outputs": [],
   "source": [],
   "metadata": {
    "collapsed": false,
    "pycharm": {
     "name": "#%%\n"
    }
   }
  }
 ],
 "metadata": {
  "kernelspec": {
   "display_name": "Python 3",
   "language": "python",
   "name": "python3"
  },
  "language_info": {
   "codemirror_mode": {
    "name": "ipython",
    "version": 2
   },
   "file_extension": ".py",
   "mimetype": "text/x-python",
   "name": "python",
   "nbconvert_exporter": "python",
   "pygments_lexer": "ipython2",
   "version": "2.7.6"
  }
 },
 "nbformat": 4,
 "nbformat_minor": 0
}